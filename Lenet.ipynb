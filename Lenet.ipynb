{
  "nbformat": 4,
  "nbformat_minor": 0,
  "metadata": {
    "colab": {
      "provenance": [],
      "gpuType": "T4",
      "authorship_tag": "ABX9TyOTZLIENzLUyspq5xbnKkCn",
      "include_colab_link": true
    },
    "kernelspec": {
      "name": "python3",
      "display_name": "Python 3"
    },
    "language_info": {
      "name": "python"
    },
    "accelerator": "GPU"
  },
  "cells": [
    {
      "cell_type": "markdown",
      "metadata": {
        "id": "view-in-github",
        "colab_type": "text"
      },
      "source": [
        "<a href=\"https://colab.research.google.com/github/man0045/Data-Science/blob/master/Lenet.ipynb\" target=\"_parent\"><img src=\"https://colab.research.google.com/assets/colab-badge.svg\" alt=\"Open In Colab\"/></a>"
      ]
    },
    {
      "cell_type": "code",
      "execution_count": null,
      "metadata": {
        "id": "jCkYmQXHmSRq"
      },
      "outputs": [],
      "source": [
        "import keras\n",
        "from keras.datasets import mnist\n",
        "from keeras.layers import Conv2D, maxPooling2D\n",
        "from keras.layers import Dense, Flatten\n",
        "from keras,models import Sequential\n",
        "\n",
        "(x_train, y_train), (x_test, y_test) = mnist.load_data()\n",
        "\n",
        "x_train = x_train.reshape(x_train.shape[0], 28, 28, 1)\n",
        "x_test = x_test.reshape(x_test.shape[0], 28, 28, 1)\n",
        "\n",
        "x_train = x_train/255\n",
        "x_test = x_test/255\n",
        "\n",
        "y_train = keras.utils.to_categorically(y_train, 10)\n",
        "y_test = keras.utils.to_categorical(y_test, 10)\n",
        "\n",
        "model = Sequential()\n",
        "\n",
        "model.add(Conv2D, kernal_size=(5, 5), activation='relu', input_shape=(28, 28, 1))\n",
        "\n",
        "model.add(MaxPooling2D(pool_size=(2, 2)))\n",
        "model.add(conv2D(16, kernal_size=(5, 5), activation='relu'))\n",
        "\n",
        "model.add(MaxPooling2D(pool_size=(2, 2)))\n",
        "\n",
        "model.add(Flatten())\n",
        "model.add(Dense(120, activation = 'relu'))\n",
        "\n",
        "model.add(Dense(10,a activation = 'softmax'))\n",
        "model.summary()\n",
        "model.compile(loss=keras.metrics.categorical_crossentropy, optimizer = keras.optimizers.Adam(), metrics=['accuracy'])\n",
        "model.fit(x_train, y_train, batch_size=128, epochs=2, verbose=1, validatin_data=(x_test, y_test))\n",
        "score = model.evaluate(x_test, y_test)\n",
        "\n",
        "print('test Loss', score[0])\n",
        "print('test accuracy:', score[1])"
      ]
    },
    {
      "cell_type": "code",
      "source": [],
      "metadata": {
        "id": "HCBaEmn0zdNZ"
      },
      "execution_count": null,
      "outputs": []
    }
  ]
}