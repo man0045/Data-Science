{
 "cells": [
  {
   "cell_type": "code",
   "execution_count": 1,
   "metadata": {},
   "outputs": [],
   "source": [
    "import threading"
   ]
  },
  {
   "cell_type": "code",
   "execution_count": 2,
   "metadata": {},
   "outputs": [],
   "source": [
    "def test(id):\n",
    "    print(\"prog start %d\"% id)"
   ]
  },
  {
   "cell_type": "code",
   "execution_count": 3,
   "metadata": {},
   "outputs": [
    {
     "name": "stdout",
     "output_type": "stream",
     "text": [
      "prog start 45\n"
     ]
    }
   ],
   "source": [
    "test(45)"
   ]
  },
  {
   "cell_type": "code",
   "execution_count": 5,
   "metadata": {},
   "outputs": [],
   "source": [
    "thread = [threading.Thread(target = test, args = (i, ))for i in range(10)]"
   ]
  },
  {
   "cell_type": "code",
   "execution_count": 6,
   "metadata": {},
   "outputs": [
    {
     "name": "stdout",
     "output_type": "stream",
     "text": [
      "prog start 0\n",
      "prog start 1\n",
      "prog start 2\n",
      "prog start 3\n",
      "prog start 4\n",
      "prog start 5\n",
      "prog start 6\n",
      "prog start 7\n",
      "prog start 8\n",
      "prog start 9\n"
     ]
    }
   ],
   "source": [
    "for t in thread:\n",
    "    t.start()"
   ]
  },
  {
   "cell_type": "code",
   "execution_count": 7,
   "metadata": {},
   "outputs": [],
   "source": [
    "import threading\n",
    "import urllib.request\n",
    "\n",
    "def file_download(url, filename):\n",
    "    urllib.request.urlretrieve(url, filename)"
   ]
  },
  {
   "cell_type": "code",
   "execution_count": 8,
   "metadata": {},
   "outputs": [],
   "source": [
    "file_download('https://github.com/man0045/TextUtils-React/blob/master/public/robots.txt', \"mannu.txt\")"
   ]
  },
  {
   "cell_type": "code",
   "execution_count": 9,
   "metadata": {},
   "outputs": [],
   "source": [
    "url_list = ['https://github.com/man0045/TextUtils-React/blob/master/public/robots.txt','https://github.com/Bo0oM/fuzz.txt/blob/master/extensions.txt','https://github.com/Bo0oM/fuzz.txt/blob/master/extensions.txt' ]"
   ]
  },
  {
   "cell_type": "code",
   "execution_count": 10,
   "metadata": {},
   "outputs": [
    {
     "data": {
      "text/plain": [
       "['https://github.com/man0045/TextUtils-React/blob/master/public/robots.txt',\n",
       " 'https://github.com/Bo0oM/fuzz.txt/blob/master/extensions.txt',\n",
       " 'https://github.com/Bo0oM/fuzz.txt/blob/master/extensions.txt']"
      ]
     },
     "execution_count": 10,
     "metadata": {},
     "output_type": "execute_result"
    }
   ],
   "source": [
    "url_list"
   ]
  },
  {
   "cell_type": "code",
   "execution_count": 11,
   "metadata": {},
   "outputs": [],
   "source": [
    "file_name_list = ['data1.txt', 'data2.txt', 'data3.txt']"
   ]
  },
  {
   "cell_type": "code",
   "execution_count": 12,
   "metadata": {},
   "outputs": [],
   "source": [
    "ther = [threading.Thread(target = file_download, args = (url_list[i], file_name_list[i])) for i in range(len(url_list))]"
   ]
  },
  {
   "cell_type": "code",
   "execution_count": 13,
   "metadata": {},
   "outputs": [
    {
     "data": {
      "text/plain": [
       "[<Thread(Thread-13 (file_download), initial)>,\n",
       " <Thread(Thread-14 (file_download), initial)>,\n",
       " <Thread(Thread-15 (file_download), initial)>]"
      ]
     },
     "execution_count": 13,
     "metadata": {},
     "output_type": "execute_result"
    }
   ],
   "source": [
    "ther"
   ]
  },
  {
   "cell_type": "code",
   "execution_count": 14,
   "metadata": {},
   "outputs": [],
   "source": [
    "for t in ther:\n",
    "    t.start()"
   ]
  },
  {
   "cell_type": "code",
   "execution_count": 15,
   "metadata": {},
   "outputs": [],
   "source": [
    "import time"
   ]
  },
  {
   "cell_type": "code",
   "execution_count": 41,
   "metadata": {},
   "outputs": [],
   "source": [
    "def test(id):\n",
    "    for i in range(10):\n",
    "        print(\"test %d printing %d %s\" %(id, i,time.ctime() ))\n",
    "        time.sleep(1)"
   ]
  },
  {
   "cell_type": "code",
   "execution_count": 42,
   "metadata": {},
   "outputs": [
    {
     "name": "stdout",
     "output_type": "stream",
     "text": [
      "test 1 printing 0 Thu Apr 20 20:17:57 2023\n",
      "test 1 printing 1 Thu Apr 20 20:17:58 2023\n",
      "test 1 printing 2 Thu Apr 20 20:17:59 2023\n",
      "test 1 printing 3 Thu Apr 20 20:18:00 2023\n",
      "test 1 printing 4 Thu Apr 20 20:18:01 2023\n",
      "test 1 printing 5 Thu Apr 20 20:18:02 2023\n",
      "test 1 printing 6 Thu Apr 20 20:18:03 2023\n",
      "test 1 printing 7 Thu Apr 20 20:18:04 2023\n",
      "test 1 printing 8 Thu Apr 20 20:18:05 2023\n",
      "test 1 printing 9 Thu Apr 20 20:18:06 2023\n"
     ]
    }
   ],
   "source": [
    "test(1)"
   ]
  },
  {
   "cell_type": "code",
   "execution_count": 43,
   "metadata": {},
   "outputs": [],
   "source": [
    "thread1 = [threading.Thread(target = test, args = (i,))for i in range(3)]"
   ]
  },
  {
   "cell_type": "code",
   "execution_count": 44,
   "metadata": {},
   "outputs": [
    {
     "name": "stdout",
     "output_type": "stream",
     "text": [
      "test 0 printing 0 Thu Apr 20 20:18:07 2023\n",
      "test 1 printing 0 Thu Apr 20 20:18:07 2023\n",
      "test 2 printing 0 Thu Apr 20 20:18:07 2023\n"
     ]
    },
    {
     "name": "stdout",
     "output_type": "stream",
     "text": [
      "test 2 printing 1 Thu Apr 20 20:18:08 2023test 1 printing 1 Thu Apr 20 20:18:08 2023\n",
      "test 0 printing 1 Thu Apr 20 20:18:08 2023\n",
      "\n",
      "test 2 printing 2 Thu Apr 20 20:18:09 2023test 1 printing 2 Thu Apr 20 20:18:09 2023\n",
      "test 0 printing 2 Thu Apr 20 20:18:09 2023\n",
      "\n",
      "test 2 printing 3 Thu Apr 20 20:18:10 2023test 0 printing 3 Thu Apr 20 20:18:10 2023\n",
      "test 1 printing 3 Thu Apr 20 20:18:10 2023\n",
      "\n",
      "test 1 printing 4 Thu Apr 20 20:18:11 2023test 0 printing 4 Thu Apr 20 20:18:11 2023\n",
      "test 2 printing 4 Thu Apr 20 20:18:11 2023\n",
      "\n",
      "test 2 printing 5 Thu Apr 20 20:18:12 2023test 0 printing 5 Thu Apr 20 20:18:12 2023\n",
      "test 1 printing 5 Thu Apr 20 20:18:12 2023\n",
      "\n",
      "test 1 printing 6 Thu Apr 20 20:18:13 2023test 0 printing 6 Thu Apr 20 20:18:13 2023\n",
      "test 2 printing 6 Thu Apr 20 20:18:13 2023\n",
      "\n",
      "test 1 printing 7 Thu Apr 20 20:18:14 2023\n",
      "test 0 printing 7 Thu Apr 20 20:18:14 2023\n",
      "test 2 printing 7 Thu Apr 20 20:18:14 2023\n",
      "test 2 printing 8 Thu Apr 20 20:18:15 2023test 0 printing 8 Thu Apr 20 20:18:15 2023\n",
      "test 1 printing 8 Thu Apr 20 20:18:15 2023\n",
      "\n",
      "test 0 printing 9 Thu Apr 20 20:18:16 2023test 2 printing 9 Thu Apr 20 20:18:16 2023\n",
      "test 1 printing 9 Thu Apr 20 20:18:16 2023\n",
      "\n"
     ]
    }
   ],
   "source": [
    "for t in thread1:\n",
    "    t.start()"
   ]
  },
  {
   "cell_type": "code",
   "execution_count": 45,
   "metadata": {},
   "outputs": [],
   "source": [
    "shared_var = 0\n",
    "lock_var = threading.Lock()"
   ]
  },
  {
   "cell_type": "code",
   "execution_count": 54,
   "metadata": {},
   "outputs": [
    {
     "name": "stdout",
     "output_type": "stream",
     "text": [
      "test id has 0 has increament the shared variable by 1\n"
     ]
    },
    {
     "name": "stdout",
     "output_type": "stream",
     "text": [
      "test id has 1 has increament the shared variable by 2\n",
      "test id has 2 has increament the shared variable by 3\n"
     ]
    }
   ],
   "source": [
    "shared_var = 0\n",
    "lock_var = threading.Lock()\n",
    "def test2(id):\n",
    "    global shared_var\n",
    "    with lock_var:\n",
    "        shared_var = shared_var + 1\n",
    "        print(\"test id has %d has increament the shared variable by %d\" %(id, shared_var))\n",
    "        time.sleep(1)\n",
    "ther3 = [threading.Thread(target=test2, args = (i,))for i in range(3)]\n",
    "for t in ther3:\n",
    "    t.start()"
   ]
  },
  {
   "cell_type": "code",
   "execution_count": 53,
   "metadata": {},
   "outputs": [
    {
     "name": "stdout",
     "output_type": "stream",
     "text": [
      "test id has 0 has increament the shared variable by 4\n"
     ]
    }
   ],
   "source": [
    "test2(0)"
   ]
  },
  {
   "cell_type": "code",
   "execution_count": 48,
   "metadata": {},
   "outputs": [
    {
     "data": {
      "text/plain": [
       "[<generator object <genexpr> at 0x000001A4C4E24900>]"
      ]
     },
     "execution_count": 48,
     "metadata": {},
     "output_type": "execute_result"
    }
   ],
   "source": [
    "ther3"
   ]
  },
  {
   "cell_type": "code",
   "execution_count": null,
   "metadata": {},
   "outputs": [],
   "source": []
  }
 ],
 "metadata": {
  "kernelspec": {
   "display_name": "Python 3",
   "language": "python",
   "name": "python3"
  },
  "language_info": {
   "codemirror_mode": {
    "name": "ipython",
    "version": 3
   },
   "file_extension": ".py",
   "mimetype": "text/x-python",
   "name": "python",
   "nbconvert_exporter": "python",
   "pygments_lexer": "ipython3",
   "version": "3.10.6"
  },
  "orig_nbformat": 4
 },
 "nbformat": 4,
 "nbformat_minor": 2
}
