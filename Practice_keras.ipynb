{
  "nbformat": 4,
  "nbformat_minor": 0,
  "metadata": {
    "colab": {
      "provenance": [],
      "authorship_tag": "ABX9TyMMdvK2y7vDk5mopE8I8bjE",
      "include_colab_link": true
    },
    "kernelspec": {
      "name": "python3",
      "display_name": "Python 3"
    },
    "language_info": {
      "name": "python"
    }
  },
  "cells": [
    {
      "cell_type": "markdown",
      "metadata": {
        "id": "view-in-github",
        "colab_type": "text"
      },
      "source": [
        "<a href=\"https://colab.research.google.com/github/man0045/Data-Science/blob/master/Practice_keras.ipynb\" target=\"_parent\"><img src=\"https://colab.research.google.com/assets/colab-badge.svg\" alt=\"Open In Colab\"/></a>"
      ]
    },
    {
      "cell_type": "code",
      "execution_count": 1,
      "metadata": {
        "id": "_qRHBGxA8CmQ"
      },
      "outputs": [],
      "source": [
        "import numpy as np\n",
        "import os\n",
        "\n",
        "os.environ[\"KERAS_BACKEND\"] =\"jax\"\n",
        "\n",
        "import keras"
      ]
    },
    {
      "cell_type": "code",
      "source": [
        "(x_train, y_train), (x_test, y_test) = keras.datasets.mnist.load_data()\n",
        "x_train = x_train.astype(\"float32\")/255\n",
        "x_test = x_test.astype(\"float32\")/255\n",
        "\n",
        "x_train = np.expand_dims(x_train, -1)\n",
        "x_test = np.expand_dims(x_test, -1)\n",
        "\n",
        "print(\"x_train shape:\", x_train.shape)\n",
        "print(\"y_train shape:\", y_train.shape)\n",
        "print(x_train.shape[0], \"train samples\")\n",
        "print(x_test.shape[0], \"test samples\")"
      ],
      "metadata": {
        "colab": {
          "base_uri": "https://localhost:8080/"
        },
        "id": "Z6UdrH1U8nFr",
        "outputId": "1b13a134-1e58-4f8c-dcc0-7089229aef7b"
      },
      "execution_count": 2,
      "outputs": [
        {
          "output_type": "stream",
          "name": "stdout",
          "text": [
            "Downloading data from https://storage.googleapis.com/tensorflow/tf-keras-datasets/mnist.npz\n",
            "11490434/11490434 [==============================] - 0s 0us/step\n",
            "x_train shape: (60000, 28, 28, 1)\n",
            "y_train shape: (60000,)\n",
            "60000 train samples\n",
            "10000 test samples\n"
          ]
        }
      ]
    },
    {
      "cell_type": "code",
      "source": [
        "num_classes = 10\n",
        "input_shape = (28, 28, 1)\n",
        "\n",
        "model = keras.Sequential(\n",
        "    [\n",
        "        keras.layers.Input(shape=input_shape),\n",
        "        keras.layers.Conv2D(64, kernel_size=(3, 3), activation=\"relu\"),\n",
        "        keras.layers.Conv2D(64, kernel_size=(3, 3), activation=\"relu\"),\n",
        "        keras.layers.MaxPooling2D(pool_size=(2, 2)),\n",
        "        keras.layers.Conv2D(128, kernel_size=(3, 3), activation=\"relu\"),\n",
        "        keras.layers.Conv2D(128, kernel_size=(3, 3), activation=\"relu\"),\n",
        "        keras.layers.GlobalAveragePooling2D(),\n",
        "        keras.layers.Dropout(0.5),\n",
        "        keras.layers.Dense(num_classes, activation=\"softmax\"),\n",
        "    ]\n",
        ")"
      ],
      "metadata": {
        "id": "9iaC9TIM9i6q"
      },
      "execution_count": 3,
      "outputs": []
    },
    {
      "cell_type": "code",
      "source": [
        "model.summary()"
      ],
      "metadata": {
        "colab": {
          "base_uri": "https://localhost:8080/"
        },
        "id": "vZBKS5LM-6M2",
        "outputId": "977b1336-1f97-4241-ed1f-7db727fc5213"
      },
      "execution_count": 4,
      "outputs": [
        {
          "output_type": "stream",
          "name": "stdout",
          "text": [
            "Model: \"sequential\"\n",
            "_________________________________________________________________\n",
            " Layer (type)                Output Shape              Param #   \n",
            "=================================================================\n",
            " conv2d (Conv2D)             (None, 26, 26, 64)        640       \n",
            "                                                                 \n",
            " conv2d_1 (Conv2D)           (None, 24, 24, 64)        36928     \n",
            "                                                                 \n",
            " max_pooling2d (MaxPooling2  (None, 12, 12, 64)        0         \n",
            " D)                                                              \n",
            "                                                                 \n",
            " conv2d_2 (Conv2D)           (None, 10, 10, 128)       73856     \n",
            "                                                                 \n",
            " conv2d_3 (Conv2D)           (None, 8, 8, 128)         147584    \n",
            "                                                                 \n",
            " global_average_pooling2d (  (None, 128)               0         \n",
            " GlobalAveragePooling2D)                                         \n",
            "                                                                 \n",
            " dropout (Dropout)           (None, 128)               0         \n",
            "                                                                 \n",
            " dense (Dense)               (None, 10)                1290      \n",
            "                                                                 \n",
            "=================================================================\n",
            "Total params: 260298 (1016.79 KB)\n",
            "Trainable params: 260298 (1016.79 KB)\n",
            "Non-trainable params: 0 (0.00 Byte)\n",
            "_________________________________________________________________\n"
          ]
        }
      ]
    },
    {
      "cell_type": "code",
      "source": [
        "model.compile(\n",
        "    loss=keras.losses.SparseCategoricalCrossentropy(),\n",
        "    optimizer=keras.optimizers.Adam(learning_rate=1e-3),\n",
        "    metrics=[\n",
        "        keras.metrics.SparseCategoricalAccuracy(name=\"acc\"),\n",
        "    ],\n",
        ")"
      ],
      "metadata": {
        "id": "qpiMl96g_Gdc"
      },
      "execution_count": 5,
      "outputs": []
    },
    {
      "cell_type": "code",
      "source": [
        "batch_size = 128\n",
        "epochs = 20\n",
        "\n",
        "callbacks = [\n",
        "    keras.callbacks.ModelCheckpoint(filepath=\"model_at_epoch_{epoch}.keras\"),\n",
        "    keras.callbacks.EarlyStopping(monitor=\"val_loss\", patience=2)\n",
        "]\n",
        "model.fit(\n",
        "    x_train,\n",
        "    y_train,\n",
        "    batch_size=batch_size,\n",
        "    epochs= epochs,\n",
        "    validation_split=0.15,\n",
        "    callbacks=callbacks,\n",
        ")\n",
        "score = model.evaluate(x_test, y_test, verbose = 0)"
      ],
      "metadata": {
        "colab": {
          "base_uri": "https://localhost:8080/"
        },
        "id": "qlzgPryZ_l7X",
        "outputId": "5f284f92-50a4-406b-91dc-8b5ebcea1690"
      },
      "execution_count": null,
      "outputs": [
        {
          "output_type": "stream",
          "name": "stdout",
          "text": [
            "Epoch 1/20\n",
            "399/399 [==============================] - 341s 849ms/step - loss: 0.8107 - acc: 0.7199 - val_loss: 0.1641 - val_acc: 0.9550\n",
            "Epoch 2/20\n",
            "399/399 [==============================] - 325s 816ms/step - loss: 0.2350 - acc: 0.9313 - val_loss: 0.1217 - val_acc: 0.9628\n",
            "Epoch 3/20\n",
            "399/399 [==============================] - 328s 823ms/step - loss: 0.1620 - acc: 0.9526 - val_loss: 0.0817 - val_acc: 0.9754\n",
            "Epoch 4/20\n",
            "399/399 [==============================] - 319s 799ms/step - loss: 0.1289 - acc: 0.9620 - val_loss: 0.0667 - val_acc: 0.9802\n",
            "Epoch 5/20\n",
            "399/399 [==============================] - 322s 808ms/step - loss: 0.1126 - acc: 0.9671 - val_loss: 0.0470 - val_acc: 0.9860\n",
            "Epoch 6/20\n",
            "399/399 [==============================] - 325s 814ms/step - loss: 0.0973 - acc: 0.9713 - val_loss: 0.0390 - val_acc: 0.9888\n",
            "Epoch 7/20\n",
            "399/399 [==============================] - 325s 815ms/step - loss: 0.0871 - acc: 0.9748 - val_loss: 0.0357 - val_acc: 0.9900\n",
            "Epoch 8/20\n",
            "399/399 [==============================] - 321s 805ms/step - loss: 0.0787 - acc: 0.9759 - val_loss: 0.0360 - val_acc: 0.9899\n",
            "Epoch 9/20\n",
            "133/399 [=========>....................] - ETA: 3:19 - loss: 0.0800 - acc: 0.9763"
          ]
        }
      ]
    },
    {
      "cell_type": "code",
      "source": [
        "model.save(\"final_model.keras\")"
      ],
      "metadata": {
        "id": "ZX_RJ1m0AbuS"
      },
      "execution_count": null,
      "outputs": []
    },
    {
      "cell_type": "code",
      "source": [
        "model=keras.saving.load_model(\"final_model.keras\")"
      ],
      "metadata": {
        "id": "WbM7H3EYAthX"
      },
      "execution_count": null,
      "outputs": []
    },
    {
      "cell_type": "code",
      "source": [
        "predictions=model.predict(x_test)"
      ],
      "metadata": {
        "id": "UdRpacgaAyiJ"
      },
      "execution_count": null,
      "outputs": []
    },
    {
      "cell_type": "code",
      "source": [],
      "metadata": {
        "id": "AJQ9I3FqA1ir"
      },
      "execution_count": null,
      "outputs": []
    }
  ]
}