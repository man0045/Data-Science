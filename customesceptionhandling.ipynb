{
 "cells": [
  {
   "cell_type": "code",
   "execution_count": 2,
   "metadata": {},
   "outputs": [
    {
     "name": "stdout",
     "output_type": "stream",
     "text": [
      "23\n"
     ]
    }
   ],
   "source": [
    "age = int(input(\"enter your age\"))\n",
    "print(age)"
   ]
  },
  {
   "cell_type": "code",
   "execution_count": 3,
   "metadata": {},
   "outputs": [],
   "source": [
    "class validateage(Exception):\n",
    "    def __init__(self, msg):\n",
    "        self.msg = msg"
   ]
  },
  {
   "cell_type": "code",
   "execution_count": 4,
   "metadata": {},
   "outputs": [],
   "source": [
    "def validateage(age):\n",
    "    if age < 0:\n",
    "        raise validateage(\"entered name is negative\")\n",
    "    elif age > 200:\n",
    "        raise validateage(\"entered age is very very high\")\n",
    "    else :\n",
    "        print(\"age is valid\")"
   ]
  },
  {
   "cell_type": "code",
   "execution_count": 7,
   "metadata": {},
   "outputs": [
    {
     "ename": "TypeError",
     "evalue": "catching classes that do not inherit from BaseException is not allowed",
     "output_type": "error",
     "traceback": [
      "\u001b[1;31m---------------------------------------------------------------------------\u001b[0m",
      "\u001b[1;31mTypeError\u001b[0m                                 Traceback (most recent call last)",
      "\u001b[1;32mc:\\Users\\mannu\\OneDrive\\Desktop\\Newfolder\\pw datascience course\\customesceptionhandling.ipynb Cell 4\u001b[0m in \u001b[0;36m3\n\u001b[0;32m      <a href='vscode-notebook-cell:/c%3A/Users/mannu/OneDrive/Desktop/Newfolder/pw%20datascience%20course/customesceptionhandling.ipynb#W3sZmlsZQ%3D%3D?line=1'>2</a>\u001b[0m     age \u001b[39m=\u001b[39m \u001b[39mint\u001b[39m(\u001b[39minput\u001b[39m(\u001b[39m\"\u001b[39m\u001b[39mEnter your age\u001b[39m\u001b[39m\"\u001b[39m))\n\u001b[1;32m----> <a href='vscode-notebook-cell:/c%3A/Users/mannu/OneDrive/Desktop/Newfolder/pw%20datascience%20course/customesceptionhandling.ipynb#W3sZmlsZQ%3D%3D?line=2'>3</a>\u001b[0m     validateage(age)\n\u001b[0;32m      <a href='vscode-notebook-cell:/c%3A/Users/mannu/OneDrive/Desktop/Newfolder/pw%20datascience%20course/customesceptionhandling.ipynb#W3sZmlsZQ%3D%3D?line=3'>4</a>\u001b[0m \u001b[39mexcept\u001b[39;00m validateage \u001b[39mas\u001b[39;00m e:\n",
      "\u001b[1;32mc:\\Users\\mannu\\OneDrive\\Desktop\\Newfolder\\pw datascience course\\customesceptionhandling.ipynb Cell 4\u001b[0m in \u001b[0;36m3\n\u001b[0;32m      <a href='vscode-notebook-cell:/c%3A/Users/mannu/OneDrive/Desktop/Newfolder/pw%20datascience%20course/customesceptionhandling.ipynb#W3sZmlsZQ%3D%3D?line=1'>2</a>\u001b[0m \u001b[39mif\u001b[39;00m age \u001b[39m<\u001b[39m \u001b[39m0\u001b[39m:\n\u001b[1;32m----> <a href='vscode-notebook-cell:/c%3A/Users/mannu/OneDrive/Desktop/Newfolder/pw%20datascience%20course/customesceptionhandling.ipynb#W3sZmlsZQ%3D%3D?line=2'>3</a>\u001b[0m     \u001b[39mraise\u001b[39;00m validateage(\u001b[39m\"\u001b[39;49m\u001b[39mentered name is negative\u001b[39;49m\u001b[39m\"\u001b[39;49m)\n\u001b[0;32m      <a href='vscode-notebook-cell:/c%3A/Users/mannu/OneDrive/Desktop/Newfolder/pw%20datascience%20course/customesceptionhandling.ipynb#W3sZmlsZQ%3D%3D?line=3'>4</a>\u001b[0m \u001b[39melif\u001b[39;00m age \u001b[39m>\u001b[39m \u001b[39m200\u001b[39m:\n",
      "\u001b[1;32mc:\\Users\\mannu\\OneDrive\\Desktop\\Newfolder\\pw datascience course\\customesceptionhandling.ipynb Cell 4\u001b[0m in \u001b[0;36m2\n\u001b[0;32m      <a href='vscode-notebook-cell:/c%3A/Users/mannu/OneDrive/Desktop/Newfolder/pw%20datascience%20course/customesceptionhandling.ipynb#W3sZmlsZQ%3D%3D?line=0'>1</a>\u001b[0m \u001b[39mdef\u001b[39;00m \u001b[39mvalidateage\u001b[39m(age):\n\u001b[1;32m----> <a href='vscode-notebook-cell:/c%3A/Users/mannu/OneDrive/Desktop/Newfolder/pw%20datascience%20course/customesceptionhandling.ipynb#W3sZmlsZQ%3D%3D?line=1'>2</a>\u001b[0m     \u001b[39mif\u001b[39;00m age \u001b[39m<\u001b[39;49m \u001b[39m0\u001b[39;49m:\n\u001b[0;32m      <a href='vscode-notebook-cell:/c%3A/Users/mannu/OneDrive/Desktop/Newfolder/pw%20datascience%20course/customesceptionhandling.ipynb#W3sZmlsZQ%3D%3D?line=2'>3</a>\u001b[0m         \u001b[39mraise\u001b[39;00m validateage(\u001b[39m\"\u001b[39m\u001b[39mentered name is negative\u001b[39m\u001b[39m\"\u001b[39m)\n",
      "\u001b[1;31mTypeError\u001b[0m: '<' not supported between instances of 'str' and 'int'",
      "\nDuring handling of the above exception, another exception occurred:\n",
      "\u001b[1;31mTypeError\u001b[0m                                 Traceback (most recent call last)",
      "\u001b[1;32mc:\\Users\\mannu\\OneDrive\\Desktop\\Newfolder\\pw datascience course\\customesceptionhandling.ipynb Cell 4\u001b[0m in \u001b[0;36m4\n\u001b[0;32m      <a href='vscode-notebook-cell:/c%3A/Users/mannu/OneDrive/Desktop/Newfolder/pw%20datascience%20course/customesceptionhandling.ipynb#W3sZmlsZQ%3D%3D?line=1'>2</a>\u001b[0m     age \u001b[39m=\u001b[39m \u001b[39mint\u001b[39m(\u001b[39minput\u001b[39m(\u001b[39m\"\u001b[39m\u001b[39mEnter your age\u001b[39m\u001b[39m\"\u001b[39m))\n\u001b[0;32m      <a href='vscode-notebook-cell:/c%3A/Users/mannu/OneDrive/Desktop/Newfolder/pw%20datascience%20course/customesceptionhandling.ipynb#W3sZmlsZQ%3D%3D?line=2'>3</a>\u001b[0m     validateage(age)\n\u001b[1;32m----> <a href='vscode-notebook-cell:/c%3A/Users/mannu/OneDrive/Desktop/Newfolder/pw%20datascience%20course/customesceptionhandling.ipynb#W3sZmlsZQ%3D%3D?line=3'>4</a>\u001b[0m \u001b[39mexcept\u001b[39;00m validateage \u001b[39mas\u001b[39;00m e:\n\u001b[0;32m      <a href='vscode-notebook-cell:/c%3A/Users/mannu/OneDrive/Desktop/Newfolder/pw%20datascience%20course/customesceptionhandling.ipynb#W3sZmlsZQ%3D%3D?line=4'>5</a>\u001b[0m     \u001b[39mprint\u001b[39m(e)\n",
      "\u001b[1;31mTypeError\u001b[0m: catching classes that do not inherit from BaseException is not allowed"
     ]
    }
   ],
   "source": [
    "try :\n",
    "    age = int(input(\"Enter your age\"))\n",
    "    validateage(age)\n",
    "except validateage as e:\n",
    "    print(e)"
   ]
  },
  {
   "cell_type": "code",
   "execution_count": null,
   "metadata": {},
   "outputs": [],
   "source": []
  }
 ],
 "metadata": {
  "kernelspec": {
   "display_name": "Python 3",
   "language": "python",
   "name": "python3"
  },
  "language_info": {
   "codemirror_mode": {
    "name": "ipython",
    "version": 3
   },
   "file_extension": ".py",
   "mimetype": "text/x-python",
   "name": "python",
   "nbconvert_exporter": "python",
   "pygments_lexer": "ipython3",
   "version": "3.10.6"
  },
  "orig_nbformat": 4
 },
 "nbformat": 4,
 "nbformat_minor": 2
}
